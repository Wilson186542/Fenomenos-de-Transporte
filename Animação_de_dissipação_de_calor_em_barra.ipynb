{
  "nbformat": 4,
  "nbformat_minor": 0,
  "metadata": {
    "colab": {
      "provenance": []
    },
    "kernelspec": {
      "name": "python3",
      "display_name": "Python 3"
    },
    "language_info": {
      "name": "python"
    }
  },
  "cells": [
    {
      "cell_type": "code",
      "execution_count": 1,
      "metadata": {
        "id": "mkVddyEp4KBW"
      },
      "outputs": [],
      "source": [
        "import numpy as np\n",
        "import matplotlib.pyplot as plt\n",
        "from matplotlib.animation import FuncAnimation, PillowWriter\n",
        "\n",
        "# Parâmetros do problema\n",
        "L = 1.0  # Comprimento da barra (m)\n",
        "A = 100.0  # Amplitude inicial (°C)\n",
        "alpha = 0.1  # Difusividade térmica (m^2/s)\n",
        "timesteps = 20  # Número de passos de tempo (reduzido para gerar GIF mais rápido)\n",
        "t_max = 10.0  # Tempo máximo (s)\n",
        "\n",
        "# Malha espacial e temporal\n",
        "x = np.linspace(0, L, 100)  # Posição na barra (reduzido para gerar GIF mais rápido)\n",
        "t = np.linspace(0, t_max, timesteps)  # Intervalos de tempo\n",
        "\n",
        "# Solução analítica\n",
        "def u(x, t, A, alpha, L):\n",
        "    return A * np.sin(np.pi * x / L) * np.exp(-alpha * (np.pi / L)**2 * t)\n",
        "\n",
        "# Configuração da figura\n",
        "fig, ax = plt.subplots()\n",
        "line, = ax.plot(x, u(x, 0, A, alpha, L), color='r')  # Perfil inicial\n",
        "ax.set_xlim(0, L)\n",
        "ax.set_ylim(-A, A)\n",
        "ax.set_xlabel(\"Posição (m)\")\n",
        "ax.set_ylabel(\"Temperatura (°C)\")\n",
        "ax.set_title(\"Dissipação de Calor na Barra\")\n",
        "\n",
        "# Função de atualização para animação\n",
        "def update(frame):\n",
        "    t_current = t[frame]  # Tempo atual\n",
        "    y_data = u(x, t_current, A, alpha, L)  # Calcula o perfil em função do tempo\n",
        "    line.set_ydata(y_data)  # Atualiza os dados da linha\n",
        "    return line,\n",
        "\n",
        "# Criação da animação\n",
        "ani = FuncAnimation(fig, update, frames=timesteps, interval=50, blit=True)\n",
        "\n",
        "# Salva a animação como GIF\n",
        "writergif = PillowWriter(fps=30)\n",
        "ani.save(\"dissipacao_calor.gif\", writer=writergif)\n",
        "\n",
        "# Fecha a figura (importante para evitar problemas em alguns ambientes)\n",
        "plt.close(fig)"
      ]
    }
  ]
}